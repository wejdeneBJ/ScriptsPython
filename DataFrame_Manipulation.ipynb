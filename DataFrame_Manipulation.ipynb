{
 "cells": [
  {
   "cell_type": "code",
   "execution_count": 1,
   "metadata": {},
   "outputs": [],
   "source": [
    "import pandas as pd\n",
    "import os\n",
    "import warnings\n",
    "warnings.filterwarnings('ignore')\n",
    "data = pd.read_excel('DATA_TEMPLATE_FORMAT.xlsx')\n",
    "#data"
   ]
  },
  {
   "cell_type": "markdown",
   "metadata": {},
   "source": [
    "# 2-Separate the activities and connecting exchanges "
   ]
  },
  {
   "cell_type": "code",
   "execution_count": 2,
   "metadata": {},
   "outputs": [],
   "source": [
    "# extracting and then  reshaping activities data from DataFrame\n",
    "Activities=data.iloc[0:17, [0,1]]\n",
    "\n",
    "act=Activities.drop(index=[6])\n",
    "header_row=0\n",
    "#activity 1\n",
    "act1=act.iloc[0:6, [0,1]]\n",
    "act1\n",
    "act2=act.iloc[6:17, [0,1]]\n",
    "act2\n",
    "\n",
    "#activity 2\n",
    "act2.columns=act2.iloc[header_row]\n",
    "act2=act2.drop(index=7)\n",
    "\n",
    "#merging the two activities data\n",
    "merged=pd.merge(act2.drop_duplicates(), act1, on='Activity', how='outer')\n",
    "\n",
    "#reshape the new dataFrame\n",
    "df_A = merged.transpose()\n",
    "\n",
    "df_A.columns=df_A.iloc[header_row]\n",
    "df_A\n",
    "df_Act=df_A.drop(index='Activity')\n",
    "#df_Act\n",
    "\n"
   ]
  },
  {
   "cell_type": "code",
   "execution_count": 5,
   "metadata": {},
   "outputs": [],
   "source": [
    "#extracting connecting exchanges from DataFrame\n",
    "\n",
    "exchanges=data.iloc[17:33,0:13]\n",
    "header_row=1\n",
    "exchanges.columns=exchanges.iloc[header_row]\n",
    "\n",
    "ex_df=exchanges.loc[(exchanges['name']=='Methanol production') | ( exchanges['name'] =='Electricity, at Grid, US, 2008') | ( exchanges['name'] == 'Exchanges Inputs') | ( exchanges['name'] == 'Exchanges Outputs')  ]\n",
    "\n",
    "ex_df.to_excel('files\\Exchanges1and2_data.xlsx','w',encoding=\"utf-8\")\n",
    "\n",
    "#ex_df"
   ]
  },
  {
   "cell_type": "code",
   "execution_count": 6,
   "metadata": {},
   "outputs": [],
   "source": [
    "activity1=df_Act.iloc[0:1, 0:9]\n",
    "#activity1\n",
    "activity2=df_Act.iloc[1:2, 0:9]\n",
    "#activity2"
   ]
  },
  {
   "cell_type": "code",
   "execution_count": 7,
   "metadata": {},
   "outputs": [],
   "source": [
    "category_act=[]\n",
    "source_act=[]\n",
    "code_act=[]\n",
    "comment_act=[]\n",
    "filename_act=[]\n",
    "location_act=[]\n",
    "productionA_act=[]\n",
    "type_act=[]\n",
    "unit_act=[]\n",
    "for row in ex_df['name']:\n",
    "        if row=='Methanol production' :    category_act.append(activity1[\"categories\"]),(location_act.append(activity1[\"location\"]) ,source_act.append(activity1[\"source\"]),code_act.append(activity1[\"code\"])  ,comment_act.append(activity1[\"comment\"]),filename_act.append(activity1[\"filename\"]),productionA_act.append(activity1[\"production amount\"]),type_act.append(activity1[\"type\"]),unit_act.append(activity1[\"unit\"]) )\n",
    "        elif row=='Electricity, at Grid, US, 2008':  category_act.append(activity2[\"categories\"]),location_act.append(activity2[\"location\"]) ,source_act.append(activity2[\"source\"]),code_act.append(activity2[\"code\"])  ,comment_act.append(activity2[\"comment\"]),filename_act.append(activity2[\"filename\"]) ,productionA_act.append(activity2[\"production amount\"]),type_act.append(activity2[\"type\"]),unit_act.append(activity2[\"unit\"]) \n",
    "      \n",
    "        \n",
    "        else:         category_act.append('UNKOWN') ,productionA_act.append('UNKOWN') ,type_act.append('UNKOWN') ,unit_act.append('UNKOWN') ,code_act.append('UNKOWN'),filename_act.append('UNKOWN'),comment_act.append('UNKOWN'),location_act.append('UNKOWN'),source_act.append('UNKOWN')\n",
    "            \n",
    "ex_df['category_act'] = category_act\n",
    "ex_df['source_act'] = source_act\n",
    "ex_df['code_act'] = code_act\n",
    "ex_df['comment_act'] = comment_act\n",
    "ex_df['filename_act'] = filename_act\n",
    "ex_df['location_act'] = location_act\n",
    "ex_df['productionA_act'] = productionA_act\n",
    "ex_df['type_act'] = type_act\n",
    "ex_df['unit_act'] = unit_act\n",
    "\n",
    "ex_df.to_excel('files\\Activities_Exchanges_data.xlsx','w',encoding=\"utf-8\")\n",
    "#ex_df"
   ]
  },
  {
   "cell_type": "markdown",
   "metadata": {},
   "source": [
    "# 5-Saving  Activities data in separate sheet"
   ]
  },
  {
   "cell_type": "code",
   "execution_count": 8,
   "metadata": {},
   "outputs": [],
   "source": [
    "\n",
    "df_Act.to_excel('files\\Activities_data.xlsx','w',encoding=\"utf-8\")\n",
    "#df_Act"
   ]
  },
  {
   "cell_type": "markdown",
   "metadata": {},
   "source": [
    "# 5-Saving  Exchanges data in separate sheet"
   ]
  },
  {
   "cell_type": "code",
   "execution_count": 9,
   "metadata": {},
   "outputs": [],
   "source": [
    "#seperate Activity1 (Inputs)\n",
    "exchanges1=ex_df.iloc[0:3,0:13]\n",
    "#adding activity_id\n",
    "activity_id = []\n",
    "for row in exchanges1['name']:\n",
    "        if row=='Methanol production' :    activity_id.append('af33d5c5e636797a6948d5b30cf56cc0')\n",
    "        elif row=='Electricity, at Grid, US, 2008':   activity_id.append('eebaa3d205ad7646e38d346111818aad')\n",
    "      \n",
    "        \n",
    "        else:           activity_id.append('UNKOWN')\n",
    "            \n",
    "exchanges1['activity_id'] = activity_id\n",
    "\n",
    "\n",
    "exchanges1=exchanges1.drop(index=17)\n",
    "exchanges1.to_excel('files\\Exchanges1.xlsx','w',encoding=\"utf-8\")\n",
    "#exchanges1"
   ]
  },
  {
   "cell_type": "code",
   "execution_count": 10,
   "metadata": {},
   "outputs": [],
   "source": [
    "#seperate activity 2(Outputs)\n",
    "exchanges2=ex_df.iloc[3:6,0:13]\n",
    "#adding the activity_id\n",
    "activity_id = []\n",
    "for row in exchanges2['name']:\n",
    "        if row=='Methanol production' :    activity_id.append('af33d5c5e636797a6948d5b30cf56cc0')\n",
    "        elif row=='Electricity, at Grid, US, 2008':   activity_id.append('eebaa3d205ad7646e38d346111818aad')\n",
    "      \n",
    "        \n",
    "        else:           activity_id.append('UNKOWN')\n",
    "            \n",
    "exchanges2['activity_id'] = activity_id\n",
    "\n",
    "exchanges2=exchanges2.drop(index=25)\n",
    "exchanges2.to_excel('files\\Exchanges2.xlsx','w',encoding=\"utf-8\")\n",
    "#exchanges2"
   ]
  },
  {
   "cell_type": "code",
   "execution_count": null,
   "metadata": {},
   "outputs": [],
   "source": []
  }
 ],
 "metadata": {
  "kernelspec": {
   "display_name": "Python 3",
   "language": "python",
   "name": "python3"
  },
  "language_info": {
   "codemirror_mode": {
    "name": "ipython",
    "version": 3
   },
   "file_extension": ".py",
   "mimetype": "text/x-python",
   "name": "python",
   "nbconvert_exporter": "python",
   "pygments_lexer": "ipython3",
   "version": "3.8.5"
  }
 },
 "nbformat": 4,
 "nbformat_minor": 4
}
