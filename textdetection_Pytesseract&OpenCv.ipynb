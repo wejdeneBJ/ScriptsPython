{
 "cells": [
  {
   "cell_type": "code",
   "execution_count": 1,
   "metadata": {},
   "outputs": [],
   "source": [
    "import cv2 \n",
    "import pytesseract \n",
    "pytesseract.pytesseract.tesseract_cmd =\"C:\\\\Program Files\\\\Tesseract-OCR\\\\tesseract.exe\"\n",
    "  \n",
    "img = cv2.imread(\"review-Image1.png\") \n",
    "\n",
    "\n",
    "gray = cv2.cvtColor(img, cv2.COLOR_BGR2GRAY) \n",
    "\n",
    "ret, thresh1 = cv2.threshold(gray, 0, 255, cv2.THRESH_OTSU | cv2.THRESH_BINARY_INV) \n",
    "\n",
    "rect_kernel = cv2.getStructuringElement(cv2.MORPH_RECT, (18, 18)) \n",
    "  \n",
    "dilation = cv2.dilate(thresh1, rect_kernel, iterations = 1) \n",
    "\n",
    "contours, hierarchy = cv2.findContours(dilation, cv2.RETR_EXTERNAL,  \n",
    "                                                 cv2.CHAIN_APPROX_NONE) \n",
    "  \n",
    "\n",
    "im2 = img.copy() \n",
    "\n",
    "file = open(\"ScrapOrange.xlsx\", \"w\", encoding=\"utf-8\") \n",
    "file.write(\"\") \n",
    "file.close() \n",
    "  \n",
    "for cnt in contours: \n",
    "    x, y, w, h = cv2.boundingRect(cnt) \n",
    "    cropped = im2[y:y + h, x:x + w] \n",
    "    \n",
    "    file = open(\"ScrapOrange.xlsx\", \"a\",encoding=\"utf-8\") \n",
    " \n",
    "    text = pytesseract.image_to_string(cropped ,lang='ara') \n",
    "   \n",
    "    file.write(text)\n",
    "    file.write(\"\\n\")  \n",
    "    file.close \n",
    "\n"
   ]
  }
 ],
 "metadata": {
  "kernelspec": {
   "display_name": "Python 3",
   "language": "python",
   "name": "python3"
  },
  "language_info": {
   "codemirror_mode": {
    "name": "ipython",
    "version": 3
   },
   "file_extension": ".py",
   "mimetype": "text/x-python",
   "name": "python",
   "nbconvert_exporter": "python",
   "pygments_lexer": "ipython3",
   "version": "3.8.5"
  }
 },
 "nbformat": 4,
 "nbformat_minor": 4
}
